{
 "cells": [
  {
   "cell_type": "code",
   "execution_count": 3,
   "metadata": {},
   "outputs": [],
   "source": [
    "import mlflow\n",
    "import pandas as pd\n",
    "from sklearn.feature_extraction.text import TfidfVectorizer\n",
    "from sklearn.model_selection import train_test_split\n",
    "from sklearn.naive_bayes import MultinomialNB\n",
    "from sklearn.metrics import accuracy_score, classification_report\n",
    "from imblearn.over_sampling import SMOTE\n",
    "import mlflow\n",
    "import mlflow.sklearn\n",
    "import optuna\n"
   ]
  },
  {
   "cell_type": "code",
   "execution_count": 2,
   "metadata": {},
   "outputs": [
    {
     "data": {
      "text/plain": [
       "<Experiment: artifact_location='s3://youtube-mlflow-campusx/728060098183646235', creation_time=1731836197994, experiment_id='728060098183646235', last_update_time=1731836197994, lifecycle_stage='active', name='Exp 5 - ML Algos with HP Tuning', tags={}>"
      ]
     },
     "execution_count": 2,
     "metadata": {},
     "output_type": "execute_result"
    }
   ],
   "source": [
    "mlflow.set_tracking_uri('http://3.7.252.23:5000')\n",
    "mlflow.set_experiment(\"Exp 5 - ML Algos with HP Tuning\")"
   ]
  },
  {
   "cell_type": "code",
   "execution_count": 5,
   "metadata": {},
   "outputs": [
    {
     "data": {
      "text/plain": [
       "(36662, 2)"
      ]
     },
     "execution_count": 5,
     "metadata": {},
     "output_type": "execute_result"
    }
   ],
   "source": [
    "df = pd.read_csv('dataset.csv').dropna()\n",
    "df.shape"
   ]
  },
  {
   "cell_type": "code",
   "execution_count": 6,
   "metadata": {},
   "outputs": [
    {
     "name": "stderr",
     "output_type": "stream",
     "text": [
      "[I 2024-11-17 18:05:48,972] A new study created in memory with name: no-name-2a97c84c-0479-4877-9837-e6def9ba1f4e\n",
      "[I 2024-11-17 18:05:49,025] Trial 0 finished with value: 0.66856901289368 and parameters: {'alpha': 0.0005347933807218382}. Best is trial 0 with value: 0.66856901289368.\n",
      "[I 2024-11-17 18:05:49,056] Trial 1 finished with value: 0.66856901289368 and parameters: {'alpha': 0.00018793488703977028}. Best is trial 0 with value: 0.66856901289368.\n",
      "[I 2024-11-17 18:05:49,081] Trial 2 finished with value: 0.6682519551891778 and parameters: {'alpha': 0.03173421582808639}. Best is trial 0 with value: 0.66856901289368.\n",
      "[I 2024-11-17 18:05:49,110] Trial 3 finished with value: 0.6683576410906785 and parameters: {'alpha': 0.005056945898012899}. Best is trial 0 with value: 0.66856901289368.\n",
      "[I 2024-11-17 18:05:49,146] Trial 4 finished with value: 0.66856901289368 and parameters: {'alpha': 0.0026864764628291744}. Best is trial 0 with value: 0.66856901289368.\n",
      "[I 2024-11-17 18:05:49,187] Trial 5 finished with value: 0.6660325512576623 and parameters: {'alpha': 0.4716335838713326}. Best is trial 0 with value: 0.66856901289368.\n",
      "[I 2024-11-17 18:05:49,223] Trial 6 finished with value: 0.6651870640456563 and parameters: {'alpha': 0.8088632128651153}. Best is trial 0 with value: 0.66856901289368.\n",
      "[I 2024-11-17 18:05:49,255] Trial 7 finished with value: 0.6682519551891778 and parameters: {'alpha': 0.009477578765996182}. Best is trial 0 with value: 0.66856901289368.\n",
      "[I 2024-11-17 18:05:49,292] Trial 8 finished with value: 0.6681462692876771 and parameters: {'alpha': 0.03755238541257437}. Best is trial 0 with value: 0.66856901289368.\n",
      "[I 2024-11-17 18:05:49,322] Trial 9 finished with value: 0.6682519551891778 and parameters: {'alpha': 0.014694780150158161}. Best is trial 0 with value: 0.66856901289368.\n",
      "[I 2024-11-17 18:05:49,383] Trial 10 finished with value: 0.66856901289368 and parameters: {'alpha': 0.00011880003503988095}. Best is trial 0 with value: 0.66856901289368.\n",
      "[I 2024-11-17 18:05:49,421] Trial 11 finished with value: 0.66856901289368 and parameters: {'alpha': 0.00011863487429114426}. Best is trial 0 with value: 0.66856901289368.\n",
      "[I 2024-11-17 18:05:49,473] Trial 12 finished with value: 0.66856901289368 and parameters: {'alpha': 0.000694781416204039}. Best is trial 0 with value: 0.66856901289368.\n",
      "[I 2024-11-17 18:05:49,535] Trial 13 finished with value: 0.66856901289368 and parameters: {'alpha': 0.0009262858964313432}. Best is trial 0 with value: 0.66856901289368.\n",
      "[I 2024-11-17 18:05:49,582] Trial 14 finished with value: 0.66856901289368 and parameters: {'alpha': 0.00047874287726651176}. Best is trial 0 with value: 0.66856901289368.\n",
      "[I 2024-11-17 18:05:49,634] Trial 15 finished with value: 0.66856901289368 and parameters: {'alpha': 0.00031496422933226817}. Best is trial 0 with value: 0.66856901289368.\n",
      "[I 2024-11-17 18:05:49,689] Trial 16 finished with value: 0.66856901289368 and parameters: {'alpha': 0.001814599548674209}. Best is trial 0 with value: 0.66856901289368.\n",
      "[I 2024-11-17 18:05:49,736] Trial 17 finished with value: 0.66856901289368 and parameters: {'alpha': 0.0002473604246307764}. Best is trial 0 with value: 0.66856901289368.\n",
      "[I 2024-11-17 18:05:49,788] Trial 18 finished with value: 0.6666666666666666 and parameters: {'alpha': 0.19664757355319673}. Best is trial 0 with value: 0.66856901289368.\n",
      "[I 2024-11-17 18:05:49,840] Trial 19 finished with value: 0.66856901289368 and parameters: {'alpha': 0.0014372465517602914}. Best is trial 0 with value: 0.66856901289368.\n",
      "[I 2024-11-17 18:05:49,887] Trial 20 finished with value: 0.66856901289368 and parameters: {'alpha': 0.00024452935119538934}. Best is trial 0 with value: 0.66856901289368.\n",
      "[I 2024-11-17 18:05:49,940] Trial 21 finished with value: 0.66856901289368 and parameters: {'alpha': 0.0027791736896275628}. Best is trial 0 with value: 0.66856901289368.\n",
      "[I 2024-11-17 18:05:49,997] Trial 22 finished with value: 0.6683576410906785 and parameters: {'alpha': 0.003806033462154794}. Best is trial 0 with value: 0.66856901289368.\n",
      "[I 2024-11-17 18:05:50,051] Trial 23 finished with value: 0.66856901289368 and parameters: {'alpha': 0.0007857989740361266}. Best is trial 0 with value: 0.66856901289368.\n",
      "[I 2024-11-17 18:05:50,094] Trial 24 finished with value: 0.66856901289368 and parameters: {'alpha': 0.0003541540891189695}. Best is trial 0 with value: 0.66856901289368.\n",
      "[I 2024-11-17 18:05:50,156] Trial 25 finished with value: 0.66856901289368 and parameters: {'alpha': 0.00010708164190527607}. Best is trial 0 with value: 0.66856901289368.\n",
      "[I 2024-11-17 18:05:50,204] Trial 26 finished with value: 0.66856901289368 and parameters: {'alpha': 0.0013888290560234693}. Best is trial 0 with value: 0.66856901289368.\n",
      "[I 2024-11-17 18:05:50,252] Trial 27 finished with value: 0.6682519551891778 and parameters: {'alpha': 0.0074038070328111645}. Best is trial 0 with value: 0.66856901289368.\n",
      "[I 2024-11-17 18:05:50,294] Trial 28 finished with value: 0.66856901289368 and parameters: {'alpha': 0.0021961073926173116}. Best is trial 0 with value: 0.66856901289368.\n",
      "[I 2024-11-17 18:05:50,338] Trial 29 finished with value: 0.6681462692876771 and parameters: {'alpha': 0.023021562547413003}. Best is trial 0 with value: 0.66856901289368.\n",
      "2024/11/17 18:06:09 WARNING mlflow.models.model: Input example should be provided to infer model signature if the model signature is not provided when logging the model.\n",
      "2024/11/17 18:06:09 INFO mlflow.tracking._tracking_service.client: 🏃 View run MultinomialNB_SMOTE_TFIDF_Trigrams at: http://3.7.252.23:5000/#/experiments/728060098183646235/runs/462782fd8b6843e8a95b8b5d3725dbf0.\n",
      "2024/11/17 18:06:09 INFO mlflow.tracking._tracking_service.client: 🧪 View experiment at: http://3.7.252.23:5000/#/experiments/728060098183646235.\n"
     ]
    }
   ],
   "source": [
    "# Step 1: (Optional) Remapping - skipped since not strictly needed for Multinomial Naive Bayes\n",
    "\n",
    "# Step 2: Remove rows where the target labels (category) are NaN\n",
    "df = df.dropna(subset=['category'])\n",
    "\n",
    "# Step 3: TF-IDF vectorizer setup\n",
    "ngram_range = (1, 3)  # Trigram\n",
    "max_features = 1000  # Set max_features to 1000\n",
    "vectorizer = TfidfVectorizer(ngram_range=ngram_range, max_features=max_features)\n",
    "X = vectorizer.fit_transform(df['clean_comment'])\n",
    "y = df['category']\n",
    "\n",
    "# Step 4: Apply SMOTE to handle class imbalance\n",
    "smote = SMOTE(random_state=42)\n",
    "X_resampled, y_resampled = smote.fit_resample(X, y)\n",
    "\n",
    "# Step 5: Train-test split\n",
    "X_train, X_test, y_train, y_test = train_test_split(X_resampled, y_resampled, test_size=0.2, random_state=42, stratify=y_resampled)\n",
    "\n",
    "# Function to log results in MLflow\n",
    "def log_mlflow(model_name, model, X_train, X_test, y_train, y_test):\n",
    "    with mlflow.start_run():\n",
    "        # Log model type\n",
    "        mlflow.set_tag(\"mlflow.runName\", f\"{model_name}_SMOTE_TFIDF_Trigrams\")\n",
    "        mlflow.set_tag(\"experiment_type\", \"algorithm_comparison\")\n",
    "\n",
    "        # Log algorithm name as a parameter\n",
    "        mlflow.log_param(\"algo_name\", model_name)\n",
    "\n",
    "        # Train model\n",
    "        model.fit(X_train, y_train)\n",
    "        y_pred = model.predict(X_test)\n",
    "\n",
    "        # Log accuracy\n",
    "        accuracy = accuracy_score(y_test, y_pred)\n",
    "        mlflow.log_metric(\"accuracy\", accuracy)\n",
    "\n",
    "        # Log classification report\n",
    "        classification_rep = classification_report(y_test, y_pred, output_dict=True)\n",
    "        for label, metrics in classification_rep.items():\n",
    "            if isinstance(metrics, dict):\n",
    "                for metric, value in metrics.items():\n",
    "                    mlflow.log_metric(f\"{label}_{metric}\", value)\n",
    "\n",
    "        # Log the model\n",
    "        mlflow.sklearn.log_model(model, f\"{model_name}_model\")\n",
    "\n",
    "\n",
    "# Step 6: Optuna objective function for Multinomial Naive Bayes\n",
    "def objective_mnb(trial):\n",
    "    alpha = trial.suggest_float('alpha', 1e-4, 1.0, log=True)  # Tuning the smoothing parameter\n",
    "\n",
    "    # MultinomialNB model setup\n",
    "    model = MultinomialNB(alpha=alpha)\n",
    "    return accuracy_score(y_test, model.fit(X_train, y_train).predict(X_test))\n",
    "\n",
    "\n",
    "# Step 7: Run Optuna for Multinomial Naive Bayes, log the best model only\n",
    "def run_optuna_experiment():\n",
    "    study = optuna.create_study(direction=\"maximize\")\n",
    "    study.optimize(objective_mnb, n_trials=30)\n",
    "\n",
    "    # Get the best parameters and log only the best model\n",
    "    best_params = study.best_params\n",
    "    best_model = MultinomialNB(alpha=best_params['alpha'])\n",
    "\n",
    "    # Log the best model with MLflow, passing the algo_name as \"MultinomialNB\"\n",
    "    log_mlflow(\"MultinomialNB\", best_model, X_train, X_test, y_train, y_test)\n",
    "\n",
    "# Run the experiment for Multinomial Naive Bayes\n",
    "run_optuna_experiment()"
   ]
  },
  {
   "cell_type": "code",
   "execution_count": null,
   "metadata": {},
   "outputs": [],
   "source": []
  }
 ],
 "metadata": {
  "kernelspec": {
   "display_name": "Python 3",
   "language": "python",
   "name": "python3"
  },
  "language_info": {
   "codemirror_mode": {
    "name": "ipython",
    "version": 3
   },
   "file_extension": ".py",
   "mimetype": "text/x-python",
   "name": "python",
   "nbconvert_exporter": "python",
   "pygments_lexer": "ipython3",
   "version": "3.12.5"
  }
 },
 "nbformat": 4,
 "nbformat_minor": 2
}
