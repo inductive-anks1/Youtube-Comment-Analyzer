{
 "cells": [
  {
   "cell_type": "code",
   "execution_count": 1,
   "metadata": {},
   "outputs": [],
   "source": [
    "import optuna\n",
    "import mlflow\n",
    "import mlflow.sklearn\n",
    "from sklearn.model_selection import train_test_split\n",
    "from sklearn.metrics import accuracy_score, classification_report\n",
    "from sklearn.feature_extraction.text import TfidfVectorizer\n",
    "from sklearn.linear_model import LogisticRegression\n",
    "from sklearn.svm import SVC\n",
    "from xgboost import XGBClassifier\n",
    "from lightgbm import LGBMClassifier\n",
    "from sklearn.neighbors import KNeighborsClassifier\n",
    "from sklearn.naive_bayes import MultinomialNB\n",
    "from sklearn.ensemble import RandomForestClassifier\n",
    "from imblearn.over_sampling import SMOTE\n",
    "import matplotlib.pyplot as plt\n",
    "import seaborn as sns\n",
    "import pandas as pd\n",
    "import mlflow"
   ]
  },
  {
   "cell_type": "code",
   "execution_count": 3,
   "metadata": {},
   "outputs": [
    {
     "name": "stderr",
     "output_type": "stream",
     "text": [
      "2024/11/17 15:06:37 INFO mlflow.tracking.fluent: Experiment with name 'Exp 5 - ML Algos with HP Tuning' does not exist. Creating a new experiment.\n"
     ]
    },
    {
     "data": {
      "text/plain": [
       "<Experiment: artifact_location='s3://youtube-mlflow-campusx/728060098183646235', creation_time=1731836197994, experiment_id='728060098183646235', last_update_time=1731836197994, lifecycle_stage='active', name='Exp 5 - ML Algos with HP Tuning', tags={}>"
      ]
     },
     "execution_count": 3,
     "metadata": {},
     "output_type": "execute_result"
    }
   ],
   "source": [
    "mlflow.set_tracking_uri('http://3.7.252.23:5000')\n",
    "mlflow.set_experiment(\"Exp 5 - ML Algos with HP Tuning\")"
   ]
  },
  {
   "cell_type": "code",
   "execution_count": 5,
   "metadata": {},
   "outputs": [
    {
     "data": {
      "text/plain": [
       "(36662, 2)"
      ]
     },
     "execution_count": 5,
     "metadata": {},
     "output_type": "execute_result"
    }
   ],
   "source": [
    "df = pd.read_csv('dataset.csv').dropna()\n",
    "df.shape"
   ]
  },
  {
   "cell_type": "code",
   "execution_count": 6,
   "metadata": {},
   "outputs": [],
   "source": [
    "# Step 1: Remap the class labels from [-1, 0, 1] to [2, 0, 1]\n",
    "df['category'] = df['category'].map({-1: 2, 0: 0, 1: 1})\n",
    "\n",
    "# Step 2: Remove rows where the target labels (category) are NaN\n",
    "df = df.dropna(subset=['category'])\n",
    "\n",
    "ngram_range = (1, 3)  # Trigram setting\n",
    "max_features = 10000  # Set max_features to 1000 for TF-IDF\n",
    "\n",
    "# Step 4: Train-test split before vectorization and resampling\n",
    "X_train, X_test, y_train, y_test = train_test_split(df['clean_comment'], df['category'], test_size=0.2, random_state=42, stratify=df['category'])"
   ]
  },
  {
   "cell_type": "code",
   "execution_count": 7,
   "metadata": {},
   "outputs": [],
   "source": [
    "# Step 2: Vectorization using TF-IDF, fit on training data only\n",
    "vectorizer = TfidfVectorizer(ngram_range=ngram_range, max_features=max_features)\n",
    "X_train_vec = vectorizer.fit_transform(X_train)  # Fit on training data\n",
    "X_test_vec = vectorizer.transform(X_test)  # Transform test data"
   ]
  },
  {
   "cell_type": "code",
   "execution_count": 8,
   "metadata": {},
   "outputs": [
    {
     "name": "stderr",
     "output_type": "stream",
     "text": [
      "[I 2024-11-17 15:12:36,429] A new study created in memory with name: no-name-0071806f-19f0-4290-8d81-593e9d0ecfb3\n",
      "[I 2024-11-17 15:15:30,458] Trial 0 finished with value: 0.6038456293467885 and parameters: {'n_estimators': 117, 'learning_rate': 0.001736128750566256, 'max_depth': 6}. Best is trial 0 with value: 0.6038456293467885.\n",
      "[I 2024-11-17 15:23:46,727] Trial 1 finished with value: 0.6316650756852584 and parameters: {'n_estimators': 274, 'learning_rate': 0.001626465816814925, 'max_depth': 7}. Best is trial 1 with value: 0.6316650756852584.\n",
      "[I 2024-11-17 15:25:54,479] Trial 2 finished with value: 0.7008045820264558 and parameters: {'n_estimators': 290, 'learning_rate': 0.03614772486162113, 'max_depth': 3}. Best is trial 2 with value: 0.7008045820264558.\n",
      "[I 2024-11-17 15:26:51,675] Trial 3 finished with value: 0.7018955407063957 and parameters: {'n_estimators': 128, 'learning_rate': 0.08164874816736345, 'max_depth': 3}. Best is trial 3 with value: 0.7018955407063957.\n",
      "[I 2024-11-17 15:34:13,089] Trial 4 finished with value: 0.7775807991272331 and parameters: {'n_estimators': 203, 'learning_rate': 0.058567899187048016, 'max_depth': 10}. Best is trial 4 with value: 0.7775807991272331.\n",
      "[I 2024-11-17 15:37:37,828] Trial 5 finished with value: 0.6210282285558435 and parameters: {'n_estimators': 88, 'learning_rate': 0.0009631873331915517, 'max_depth': 8}. Best is trial 4 with value: 0.7775807991272331.\n",
      "[I 2024-11-17 15:42:14,193] Trial 6 finished with value: 0.610255011591436 and parameters: {'n_estimators': 165, 'learning_rate': 0.00023737848208306265, 'max_depth': 7}. Best is trial 4 with value: 0.7775807991272331.\n",
      "[I 2024-11-17 15:45:35,773] Trial 7 finished with value: 0.612164189281331 and parameters: {'n_estimators': 161, 'learning_rate': 0.0020200378230831057, 'max_depth': 6}. Best is trial 4 with value: 0.7775807991272331.\n",
      "[I 2024-11-17 15:51:00,145] Trial 8 finished with value: 0.7385790263193781 and parameters: {'n_estimators': 260, 'learning_rate': 0.035822328692321444, 'max_depth': 7}. Best is trial 4 with value: 0.7775807991272331.\n",
      "[I 2024-11-17 15:53:24,613] Trial 9 finished with value: 0.6127096686213009 and parameters: {'n_estimators': 155, 'learning_rate': 0.003955658328519269, 'max_depth': 5}. Best is trial 4 with value: 0.7775807991272331.\n",
      "[I 2024-11-17 16:04:16,629] Trial 10 finished with value: 0.6753034228828583 and parameters: {'n_estimators': 220, 'learning_rate': 0.007456422289873496, 'max_depth': 10}. Best is trial 4 with value: 0.7775807991272331.\n",
      "[I 2024-11-17 16:14:12,369] Trial 11 finished with value: 0.7233056048002182 and parameters: {'n_estimators': 230, 'learning_rate': 0.019301079846124385, 'max_depth': 10}. Best is trial 4 with value: 0.7775807991272331.\n",
      "[I 2024-11-17 16:19:25,919] Trial 12 finished with value: 0.805127505795718 and parameters: {'n_estimators': 221, 'learning_rate': 0.09519289248796041, 'max_depth': 9}. Best is trial 12 with value: 0.805127505795718.\n",
      "[I 2024-11-17 16:24:40,592] Trial 13 finished with value: 0.8066275739806354 and parameters: {'n_estimators': 222, 'learning_rate': 0.09954513482051847, 'max_depth': 9}. Best is trial 13 with value: 0.8066275739806354.\n",
      "[I 2024-11-17 16:33:02,492] Trial 14 finished with value: 0.6792581480976408 and parameters: {'n_estimators': 200, 'learning_rate': 0.0108807441500932, 'max_depth': 9}. Best is trial 13 with value: 0.8066275739806354.\n",
      "[I 2024-11-17 16:38:48,640] Trial 15 finished with value: 0.8003545615709805 and parameters: {'n_estimators': 235, 'learning_rate': 0.08485384038881684, 'max_depth': 9}. Best is trial 13 with value: 0.8066275739806354.\n",
      "[I 2024-11-17 16:47:34,942] Trial 16 finished with value: 0.6207554888858584 and parameters: {'n_estimators': 255, 'learning_rate': 0.00013539186371372706, 'max_depth': 8}. Best is trial 13 with value: 0.8066275739806354.\n",
      "[I 2024-11-17 16:55:32,273] Trial 17 finished with value: 0.6915314332469658 and parameters: {'n_estimators': 198, 'learning_rate': 0.01407204010939716, 'max_depth': 9}. Best is trial 13 with value: 0.8066275739806354.\n",
      "[I 2024-11-17 16:57:24,612] Trial 18 finished with value: 0.6563480158189009 and parameters: {'n_estimators': 54, 'learning_rate': 0.022541368143294275, 'max_depth': 8}. Best is trial 13 with value: 0.8066275739806354.\n",
      "[I 2024-11-17 17:01:55,060] Trial 19 finished with value: 0.6476203463793809 and parameters: {'n_estimators': 296, 'learning_rate': 0.005674889993088762, 'max_depth': 5}. Best is trial 13 with value: 0.8066275739806354.\n",
      "[I 2024-11-17 17:09:37,671] Trial 20 finished with value: 0.6429837719896359 and parameters: {'n_estimators': 187, 'learning_rate': 0.0006022847176201476, 'max_depth': 9}. Best is trial 13 with value: 0.8066275739806354.\n",
      "[I 2024-11-17 17:15:03,178] Trial 21 finished with value: 0.804309286785763 and parameters: {'n_estimators': 235, 'learning_rate': 0.08577505516998868, 'max_depth': 9}. Best is trial 13 with value: 0.8066275739806354.\n",
      "[I 2024-11-17 17:20:58,060] Trial 22 finished with value: 0.7524887494886131 and parameters: {'n_estimators': 237, 'learning_rate': 0.04221887421241782, 'max_depth': 8}. Best is trial 13 with value: 0.8066275739806354.\n",
      "[I 2024-11-17 17:27:52,485] Trial 23 finished with value: 0.8144006545752079 and parameters: {'n_estimators': 258, 'learning_rate': 0.08994903606981314, 'max_depth': 10}. Best is trial 23 with value: 0.8144006545752079.\n",
      "[I 2024-11-17 17:35:36,409] Trial 24 finished with value: 0.7488067639438156 and parameters: {'n_estimators': 262, 'learning_rate': 0.02870881504572511, 'max_depth': 10}. Best is trial 23 with value: 0.8144006545752079.\n",
      "[I 2024-11-17 17:48:28,932] Trial 25 finished with value: 0.7760807309423156 and parameters: {'n_estimators': 218, 'learning_rate': 0.05148247362044755, 'max_depth': 10}. Best is trial 23 with value: 0.8144006545752079.\n"
     ]
    }
   ],
   "source": [
    "def log_mlflow(model_name, model, X_train, X_test, y_train, y_test):\n",
    "    with mlflow.start_run():\n",
    "        \n",
    "        mlflow.set_tag(\"mlflow.runName\", f\"{model_name}_SMOTE_TFIDF_Trigrams\")\n",
    "        mlflow.set_tag(\"experiment_type\", \"algorithm_comparison\")\n",
    "        \n",
    "        # Log algorithm name as a parameter\n",
    "        mlflow.log_param(\"algo_name\", model_name)\n",
    "        \n",
    "        # Train model\n",
    "        model.fit(X_train, y_train)\n",
    "        y_pred = model.predict(X_test)\n",
    "\n",
    "        # Log accuracy\n",
    "        accuracy = accuracy_score(y_test, y_pred)\n",
    "        mlflow.log_metric(\"accuracy\", accuracy)\n",
    "        \n",
    "        # Log classification report\n",
    "        classification_rep = classification_report(y_test, y_pred, output_dict=True)\n",
    "        for label, metrics in classification_rep.items():\n",
    "            if isinstance(metrics, dict):\n",
    "                for metric, value in metrics.items():\n",
    "                    mlflow.log_metric(f\"{label}_{metric}\", value)\n",
    "                    \n",
    "        # Log the model\n",
    "        mlflow.sklearn.log_model(model, f\"{model_name}_model\")\n",
    "        \n",
    "\n",
    "# Step 6: Optuna objective function for XGBoost\n",
    "def objective_xgboost(trial):\n",
    "    n_estimators = trial.suggest_int('n_estimators', 50, 300)\n",
    "    learning_rate = trial.suggest_float('learning_rate', 1e-4, 1e-1, log=True)\n",
    "    max_depth = trial.suggest_int('max_depth', 3, 10)\n",
    "\n",
    "    model = XGBClassifier(n_estimators=n_estimators, learning_rate=learning_rate, max_depth=max_depth, random_state=42)\n",
    "    return accuracy_score(y_test, model.fit(X_train_vec, y_train).predict(X_test_vec))\n",
    "\n",
    "\n",
    "def run_optuna_experiment():\n",
    "    study = optuna.create_study(direction=\"maximize\")\n",
    "    study.optimize(objective_xgboost, n_trials=30)\n",
    "\n",
    "    # Get the best parameters and log only the best model\n",
    "    best_params = study.best_params\n",
    "    best_model = XGBClassifier(n_estimators=best_params['n_estimators'], learning_rate=best_params['learning_rate'], max_depth=best_params['max_depth'], random_state=42)\n",
    "\n",
    "    # Log the best model with MLflow, passing the algo_name as \"xgboost\"\n",
    "    log_mlflow(\"XGBoost\", best_model, X_train_vec, X_test_vec, y_train, y_test)\n",
    "    \n",
    "\n",
    "# Run the experiment for XGBoost\n",
    "run_optuna_experiment()\n"
   ]
  },
  {
   "cell_type": "code",
   "execution_count": null,
   "metadata": {},
   "outputs": [],
   "source": []
  }
 ],
 "metadata": {
  "kernelspec": {
   "display_name": "Python 3",
   "language": "python",
   "name": "python3"
  },
  "language_info": {
   "codemirror_mode": {
    "name": "ipython",
    "version": 3
   },
   "file_extension": ".py",
   "mimetype": "text/x-python",
   "name": "python",
   "nbconvert_exporter": "python",
   "pygments_lexer": "ipython3",
   "version": "3.12.5"
  }
 },
 "nbformat": 4,
 "nbformat_minor": 2
}
