{
 "cells": [
  {
   "cell_type": "code",
   "execution_count": 1,
   "metadata": {},
   "outputs": [],
   "source": [
    "import pandas as pd\n",
    "from sklearn.feature_extraction.text import TfidfVectorizer\n",
    "from sklearn.model_selection import train_test_split\n",
    "from sklearn.linear_model import LogisticRegression\n",
    "from sklearn.metrics import accuracy_score, classification_report\n",
    "from imblearn.over_sampling import SMOTE\n",
    "import mlflow\n",
    "import mlflow.sklearn\n",
    "import optuna\n",
    "import mlflow"
   ]
  },
  {
   "cell_type": "code",
   "execution_count": 2,
   "metadata": {},
   "outputs": [
    {
     "data": {
      "text/plain": [
       "<Experiment: artifact_location='s3://youtube-mlflow-campusx/728060098183646235', creation_time=1731836197994, experiment_id='728060098183646235', last_update_time=1731836197994, lifecycle_stage='active', name='Exp 5 - ML Algos with HP Tuning', tags={}>"
      ]
     },
     "execution_count": 2,
     "metadata": {},
     "output_type": "execute_result"
    }
   ],
   "source": [
    "mlflow.set_tracking_uri('http://3.7.252.23:5000')\n",
    "mlflow.set_experiment(\"Exp 5 - ML Algos with HP Tuning\")"
   ]
  },
  {
   "cell_type": "code",
   "execution_count": 3,
   "metadata": {},
   "outputs": [],
   "source": [
    "df = pd.read_csv('dataset.csv').dropna()"
   ]
  },
  {
   "cell_type": "code",
   "execution_count": 4,
   "metadata": {},
   "outputs": [
    {
     "name": "stderr",
     "output_type": "stream",
     "text": [
      "[I 2024-11-17 18:02:47,510] A new study created in memory with name: no-name-25e82eec-89f8-4c0d-97b4-8f3e741d5449\n",
      "[I 2024-11-17 18:02:48,008] Trial 0 finished with value: 0.4273937856689918 and parameters: {'C': 0.006832684523415517, 'penalty': 'l1'}. Best is trial 0 with value: 0.4273937856689918.\n",
      "[I 2024-11-17 18:02:49,045] Trial 1 finished with value: 0.6586345381526104 and parameters: {'C': 0.0043968332582255245, 'penalty': 'l2'}. Best is trial 1 with value: 0.6586345381526104.\n",
      "[I 2024-11-17 18:02:49,955] Trial 2 finished with value: 0.6882265905728175 and parameters: {'C': 0.018019394535038844, 'penalty': 'l2'}. Best is trial 2 with value: 0.6882265905728175.\n",
      "[I 2024-11-17 18:02:50,180] Trial 3 finished with value: 0.3333333333333333 and parameters: {'C': 0.0013962599030033183, 'penalty': 'l1'}. Best is trial 2 with value: 0.6882265905728175.\n",
      "[I 2024-11-17 18:02:51,017] Trial 4 finished with value: 0.7269076305220884 and parameters: {'C': 0.07742644165815982, 'penalty': 'l2'}. Best is trial 4 with value: 0.7269076305220884.\n",
      "[I 2024-11-17 18:02:51,210] Trial 5 finished with value: 0.3333333333333333 and parameters: {'C': 0.0019948520899498857, 'penalty': 'l1'}. Best is trial 4 with value: 0.7269076305220884.\n",
      "[I 2024-11-17 18:02:54,265] Trial 6 finished with value: 0.7746776580004228 and parameters: {'C': 7.9457466467288045, 'penalty': 'l2'}. Best is trial 6 with value: 0.7746776580004228.\n",
      "[I 2024-11-17 18:02:55,124] Trial 7 finished with value: 0.6641302050306489 and parameters: {'C': 0.006576256408026662, 'penalty': 'l2'}. Best is trial 6 with value: 0.7746776580004228.\n",
      "[I 2024-11-17 18:02:55,677] Trial 8 finished with value: 0.6332699217924329 and parameters: {'C': 0.00017011525788280737, 'penalty': 'l2'}. Best is trial 6 with value: 0.7746776580004228.\n",
      "[I 2024-11-17 18:02:56,001] Trial 9 finished with value: 0.3333333333333333 and parameters: {'C': 0.0008467141191030911, 'penalty': 'l1'}. Best is trial 6 with value: 0.7746776580004228.\n",
      "[I 2024-11-17 18:02:59,358] Trial 10 finished with value: 0.7746776580004228 and parameters: {'C': 9.288909607266419, 'penalty': 'l2'}. Best is trial 6 with value: 0.7746776580004228.\n",
      "[I 2024-11-17 18:03:03,184] Trial 11 finished with value: 0.774994715704925 and parameters: {'C': 9.777124789327452, 'penalty': 'l2'}. Best is trial 11 with value: 0.774994715704925.\n",
      "[I 2024-11-17 18:03:06,359] Trial 12 finished with value: 0.774571972098922 and parameters: {'C': 7.9614748286240715, 'penalty': 'l2'}. Best is trial 11 with value: 0.774994715704925.\n",
      "[I 2024-11-17 18:03:07,441] Trial 13 finished with value: 0.7645318114563517 and parameters: {'C': 0.7355014753091086, 'penalty': 'l2'}. Best is trial 11 with value: 0.774994715704925.\n",
      "[I 2024-11-17 18:03:08,934] Trial 14 finished with value: 0.7674910166983724 and parameters: {'C': 1.1130360010690792, 'penalty': 'l2'}. Best is trial 11 with value: 0.774994715704925.\n",
      "[I 2024-11-17 18:03:10,706] Trial 15 finished with value: 0.7672796448953709 and parameters: {'C': 1.0803200408077387, 'penalty': 'l2'}. Best is trial 11 with value: 0.774994715704925.\n",
      "[I 2024-11-17 18:03:11,853] Trial 16 finished with value: 0.7455083491862186 and parameters: {'C': 0.17356614096676587, 'penalty': 'l2'}. Best is trial 11 with value: 0.774994715704925.\n",
      "[I 2024-11-17 18:03:13,556] Trial 17 finished with value: 0.7703445360388924 and parameters: {'C': 3.2241057184811304, 'penalty': 'l2'}. Best is trial 11 with value: 0.774994715704925.\n",
      "[I 2024-11-17 18:03:14,047] Trial 18 finished with value: 0.767702388501374 and parameters: {'C': 0.24743789483428705, 'penalty': 'l1'}. Best is trial 11 with value: 0.774994715704925.\n",
      "[I 2024-11-17 18:03:15,575] Trial 19 finished with value: 0.7705559078418939 and parameters: {'C': 3.3415052767446705, 'penalty': 'l2'}. Best is trial 11 with value: 0.774994715704925.\n",
      "[I 2024-11-17 18:03:16,843] Trial 20 finished with value: 0.7552314521242867 and parameters: {'C': 0.3268474455879164, 'penalty': 'l2'}. Best is trial 11 with value: 0.774994715704925.\n",
      "[I 2024-11-17 18:03:20,242] Trial 21 finished with value: 0.7748890298034242 and parameters: {'C': 9.579568146347537, 'penalty': 'l2'}. Best is trial 11 with value: 0.774994715704925.\n",
      "[I 2024-11-17 18:03:22,233] Trial 22 finished with value: 0.7703445360388924 and parameters: {'C': 3.239633679779432, 'penalty': 'l2'}. Best is trial 11 with value: 0.774994715704925.\n",
      "[I 2024-11-17 18:03:24,753] Trial 23 finished with value: 0.7746776580004228 and parameters: {'C': 9.308701678659856, 'penalty': 'l2'}. Best is trial 11 with value: 0.774994715704925.\n",
      "[I 2024-11-17 18:03:26,569] Trial 24 finished with value: 0.7682308180088776 and parameters: {'C': 2.142041789529037, 'penalty': 'l2'}. Best is trial 11 with value: 0.774994715704925.\n",
      "[I 2024-11-17 18:03:27,857] Trial 25 finished with value: 0.7613612344113295 and parameters: {'C': 0.5638316366381356, 'penalty': 'l2'}. Best is trial 11 with value: 0.774994715704925.\n",
      "[I 2024-11-17 18:03:28,497] Trial 26 finished with value: 0.7135912069329952 and parameters: {'C': 0.06439957777320914, 'penalty': 'l1'}. Best is trial 11 with value: 0.774994715704925.\n",
      "[I 2024-11-17 18:03:30,036] Trial 27 finished with value: 0.7682308180088776 and parameters: {'C': 2.1215308455939126, 'penalty': 'l2'}. Best is trial 11 with value: 0.774994715704925.\n",
      "[I 2024-11-17 18:03:31,859] Trial 28 finished with value: 0.7729866835764109 and parameters: {'C': 4.851936869384101, 'penalty': 'l2'}. Best is trial 11 with value: 0.774994715704925.\n",
      "[I 2024-11-17 18:03:32,696] Trial 29 finished with value: 0.7786937222574508 and parameters: {'C': 1.3246550968088022, 'penalty': 'l1'}. Best is trial 29 with value: 0.7786937222574508.\n",
      "2024/11/17 18:03:52 WARNING mlflow.models.model: Input example should be provided to infer model signature if the model signature is not provided when logging the model.\n",
      "2024/11/17 18:03:53 INFO mlflow.tracking._tracking_service.client: 🏃 View run LogisticRegression_SMOTE_TFIDF_Trigrams at: http://3.7.252.23:5000/#/experiments/728060098183646235/runs/492d778f01f24c02a17c06596c3a8a0b.\n",
      "2024/11/17 18:03:53 INFO mlflow.tracking._tracking_service.client: 🧪 View experiment at: http://3.7.252.23:5000/#/experiments/728060098183646235.\n"
     ]
    }
   ],
   "source": [
    "# Step 1: (Optional) Remapping - skipped since not strictly needed for Logistic Regression\n",
    "\n",
    "# Step 2: Remove rows where the target labels (category) are NaN\n",
    "df = df.dropna(subset=['category'])\n",
    "\n",
    "# Step 3: TF-IDF vectorizer setup\n",
    "ngram_range = (1, 3)  # Trigram\n",
    "max_features = 1000  # Set max_features to 1000\n",
    "vectorizer = TfidfVectorizer(ngram_range=ngram_range, max_features=max_features)\n",
    "X = vectorizer.fit_transform(df['clean_comment'])\n",
    "y = df['category']\n",
    "\n",
    "# Step 4: Apply SMOTE to handle class imbalance\n",
    "smote = SMOTE(random_state=42)\n",
    "X_resampled, y_resampled = smote.fit_resample(X, y)\n",
    "\n",
    "# Step 5: Train-test split\n",
    "X_train, X_test, y_train, y_test = train_test_split(X_resampled, y_resampled, test_size=0.2, random_state=42, stratify=y_resampled)\n",
    "\n",
    "# Function to log results in MLflow\n",
    "def log_mlflow(model_name, model, X_train, X_test, y_train, y_test):\n",
    "    with mlflow.start_run():\n",
    "        # Log model type\n",
    "        mlflow.set_tag(\"mlflow.runName\", f\"{model_name}_SMOTE_TFIDF_Trigrams\")\n",
    "        mlflow.set_tag(\"experiment_type\", \"algorithm_comparison\")\n",
    "\n",
    "        # Log algorithm name as a parameter\n",
    "        mlflow.log_param(\"algo_name\", model_name)\n",
    "\n",
    "        # Train model\n",
    "        model.fit(X_train, y_train)\n",
    "        y_pred = model.predict(X_test)\n",
    "\n",
    "        # Log accuracy\n",
    "        accuracy = accuracy_score(y_test, y_pred)\n",
    "        mlflow.log_metric(\"accuracy\", accuracy)\n",
    "\n",
    "        # Log classification report\n",
    "        classification_rep = classification_report(y_test, y_pred, output_dict=True)\n",
    "        for label, metrics in classification_rep.items():\n",
    "            if isinstance(metrics, dict):\n",
    "                for metric, value in metrics.items():\n",
    "                    mlflow.log_metric(f\"{label}_{metric}\", value)\n",
    "\n",
    "        # Log the model\n",
    "        mlflow.sklearn.log_model(model, f\"{model_name}_model\")\n",
    "\n",
    "\n",
    "# Step 6: Optuna objective function for Logistic Regression\n",
    "def objective_logreg(trial):\n",
    "    C = trial.suggest_float('C', 1e-4, 10.0, log=True)\n",
    "    penalty = trial.suggest_categorical('penalty', ['l1', 'l2'])\n",
    "\n",
    "    # LogisticRegression model setup with balanced class weight\n",
    "    model = LogisticRegression(C=C, penalty=penalty, solver='liblinear', random_state=42)\n",
    "    return accuracy_score(y_test, model.fit(X_train, y_train).predict(X_test))\n",
    "\n",
    "\n",
    "# Step 7: Run Optuna for Logistic Regression, log the best model only\n",
    "def run_optuna_experiment():\n",
    "    study = optuna.create_study(direction=\"maximize\")\n",
    "    study.optimize(objective_logreg, n_trials=30)\n",
    "\n",
    "    # Get the best parameters and log only the best model\n",
    "    best_params = study.best_params\n",
    "    best_model = LogisticRegression(C=best_params['C'], penalty=best_params['penalty'], solver='liblinear', random_state=42)\n",
    "\n",
    "    # Log the best model with MLflow, passing the algo_name as \"LogisticRegression\"\n",
    "    log_mlflow(\"LogisticRegression\", best_model, X_train, X_test, y_train, y_test)\n",
    "\n",
    "# Run the experiment for Logistic Regression\n",
    "run_optuna_experiment()\n"
   ]
  },
  {
   "cell_type": "code",
   "execution_count": null,
   "metadata": {},
   "outputs": [],
   "source": []
  }
 ],
 "metadata": {
  "kernelspec": {
   "display_name": "Python 3",
   "language": "python",
   "name": "python3"
  },
  "language_info": {
   "codemirror_mode": {
    "name": "ipython",
    "version": 3
   },
   "file_extension": ".py",
   "mimetype": "text/x-python",
   "name": "python",
   "nbconvert_exporter": "python",
   "pygments_lexer": "ipython3",
   "version": "3.12.5"
  }
 },
 "nbformat": 4,
 "nbformat_minor": 2
}
