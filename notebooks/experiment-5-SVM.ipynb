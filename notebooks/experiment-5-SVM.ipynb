{
 "cells": [
  {
   "cell_type": "code",
   "execution_count": 1,
   "metadata": {},
   "outputs": [],
   "source": [
    "import pandas as pd\n",
    "from sklearn.feature_extraction.text import TfidfVectorizer\n",
    "from sklearn.model_selection import train_test_split\n",
    "from sklearn.metrics import accuracy_score, classification_report\n",
    "from sklearn.svm import SVC\n",
    "from imblearn.over_sampling import SMOTE\n",
    "import mlflow\n",
    "import mlflow.sklearn\n",
    "import optuna\n",
    "import mlflow"
   ]
  },
  {
   "cell_type": "code",
   "execution_count": 2,
   "metadata": {},
   "outputs": [
    {
     "data": {
      "text/plain": [
       "<Experiment: artifact_location='s3://youtube-mlflow-campusx/728060098183646235', creation_time=1731836197994, experiment_id='728060098183646235', last_update_time=1731836197994, lifecycle_stage='active', name='Exp 5 - ML Algos with HP Tuning', tags={}>"
      ]
     },
     "execution_count": 2,
     "metadata": {},
     "output_type": "execute_result"
    }
   ],
   "source": [
    "mlflow.set_tracking_uri('http://3.7.252.23:5000')\n",
    "mlflow.set_experiment(\"Exp 5 - ML Algos with HP Tuning\")"
   ]
  },
  {
   "cell_type": "code",
   "execution_count": 3,
   "metadata": {},
   "outputs": [],
   "source": [
    "df = pd.read_csv('dataset.csv').dropna()"
   ]
  },
  {
   "cell_type": "code",
   "execution_count": 4,
   "metadata": {},
   "outputs": [
    {
     "name": "stderr",
     "output_type": "stream",
     "text": [
      "[I 2024-11-17 18:06:06,164] A new study created in memory with name: no-name-4f43fec8-c5e8-431d-85e7-6dd375a0859f\n",
      "[I 2024-11-17 18:13:43,284] Trial 0 finished with value: 0.43056436271401394 and parameters: {'C': 0.010146422722814737, 'kernel': 'rbf'}. Best is trial 0 with value: 0.43056436271401394.\n",
      "[I 2024-11-17 18:18:35,198] Trial 1 finished with value: 0.3628196998520397 and parameters: {'C': 0.0036740666976237775, 'kernel': 'poly'}. Best is trial 0 with value: 0.43056436271401394.\n",
      "[I 2024-11-17 18:22:07,562] Trial 2 finished with value: 0.7746776580004228 and parameters: {'C': 3.017847619309889, 'kernel': 'linear'}. Best is trial 2 with value: 0.7746776580004228.\n",
      "[I 2024-11-17 18:29:55,579] Trial 3 finished with value: 0.4487423377721412 and parameters: {'C': 0.0003159969348512186, 'kernel': 'linear'}. Best is trial 2 with value: 0.7746776580004228.\n",
      "[I 2024-11-17 18:33:57,971] Trial 4 finished with value: 0.6521876981610654 and parameters: {'C': 0.017734336656878947, 'kernel': 'linear'}. Best is trial 2 with value: 0.7746776580004228.\n",
      "[I 2024-11-17 18:35:41,316] Trial 5 finished with value: 0.7654829845698584 and parameters: {'C': 0.8224574242945267, 'kernel': 'linear'}. Best is trial 2 with value: 0.7746776580004228.\n",
      "[I 2024-11-17 18:38:30,365] Trial 6 finished with value: 0.5692242654829845 and parameters: {'C': 0.003516113466577952, 'kernel': 'linear'}. Best is trial 2 with value: 0.7746776580004228.\n",
      "[I 2024-11-17 18:54:41,098] Trial 7 finished with value: 0.6960473472838723 and parameters: {'C': 2.158302669350363, 'kernel': 'poly'}. Best is trial 2 with value: 0.7746776580004228.\n"
     ]
    }
   ],
   "source": [
    "# Step 1: (Optional) Remapping - skipped since not strictly needed for SVM\n",
    "\n",
    "# Step 2: Remove rows where the target labels (category) are NaN\n",
    "df = df.dropna(subset=['category'])\n",
    "\n",
    "# Step 3: TF-IDF vectorizer setup\n",
    "ngram_range = (1, 3)  # Trigram\n",
    "max_features = 1000  # Set max_features to 1000\n",
    "vectorizer = TfidfVectorizer(ngram_range=ngram_range, max_features=max_features)\n",
    "X = vectorizer.fit_transform(df['clean_comment'])\n",
    "y = df['category']\n",
    "\n",
    "# Step 4: Apply SMOTE to handle class imbalance\n",
    "smote = SMOTE(random_state=42)\n",
    "X_resampled, y_resampled = smote.fit_resample(X, y)\n",
    "\n",
    "# Step 5: Train-test split\n",
    "X_train, X_test, y_train, y_test = train_test_split(X_resampled, y_resampled, test_size=0.2, random_state=42, stratify=y_resampled)\n",
    "\n",
    "# Function to log results in MLflow\n",
    "def log_mlflow(model_name, model, X_train, X_test, y_train, y_test):\n",
    "    with mlflow.start_run():\n",
    "        # Log model type\n",
    "        mlflow.set_tag(\"mlflow.runName\", f\"{model_name}_SMOTE_TFIDF_Trigrams\")\n",
    "        mlflow.set_tag(\"experiment_type\", \"algorithm_comparison\")\n",
    "\n",
    "        # Log algorithm name as a parameter\n",
    "        mlflow.log_param(\"algo_name\", model_name)\n",
    "\n",
    "        # Train model\n",
    "        model.fit(X_train, y_train)\n",
    "        y_pred = model.predict(X_test)\n",
    "\n",
    "        # Log accuracy\n",
    "        accuracy = accuracy_score(y_test, y_pred)\n",
    "        mlflow.log_metric(\"accuracy\", accuracy)\n",
    "\n",
    "        # Log classification report\n",
    "        classification_rep = classification_report(y_test, y_pred, output_dict=True)\n",
    "        for label, metrics in classification_rep.items():\n",
    "            if isinstance(metrics, dict):\n",
    "                for metric, value in metrics.items():\n",
    "                    mlflow.log_metric(f\"{label}_{metric}\", value)\n",
    "\n",
    "        # Log the model\n",
    "        mlflow.sklearn.log_model(model, f\"{model_name}_model\")\n",
    "\n",
    "\n",
    "# Step 6: Optuna objective function for SVM\n",
    "def objective_svm(trial):\n",
    "    C = trial.suggest_float('C', 1e-4, 10.0, log=True)\n",
    "    kernel = trial.suggest_categorical('kernel', ['linear', 'rbf', 'poly'])\n",
    "\n",
    "    model = SVC(C=C, kernel=kernel, random_state=42)\n",
    "    return accuracy_score(y_test, model.fit(X_train, y_train).predict(X_test))\n",
    "\n",
    "\n",
    "# Step 7: Run Optuna for SVM, log the best model only\n",
    "def run_optuna_experiment():\n",
    "    study = optuna.create_study(direction=\"maximize\")\n",
    "    study.optimize(objective_svm, n_trials=30)\n",
    "\n",
    "    # Get the best parameters and log only the best model\n",
    "    best_params = study.best_params\n",
    "    best_model = SVC(C=best_params['C'], kernel=best_params['kernel'], random_state=42)\n",
    "\n",
    "    # Log the best model with MLflow, passing the algo_name as \"SVM\"\n",
    "    log_mlflow(\"SVM\", best_model, X_train, X_test, y_train, y_test)\n",
    "\n",
    "# Run the experiment for SVM\n",
    "run_optuna_experiment()\n"
   ]
  },
  {
   "cell_type": "code",
   "execution_count": null,
   "metadata": {},
   "outputs": [],
   "source": []
  }
 ],
 "metadata": {
  "kernelspec": {
   "display_name": "Python 3",
   "language": "python",
   "name": "python3"
  },
  "language_info": {
   "codemirror_mode": {
    "name": "ipython",
    "version": 3
   },
   "file_extension": ".py",
   "mimetype": "text/x-python",
   "name": "python",
   "nbconvert_exporter": "python",
   "pygments_lexer": "ipython3",
   "version": "3.12.5"
  }
 },
 "nbformat": 4,
 "nbformat_minor": 2
}
