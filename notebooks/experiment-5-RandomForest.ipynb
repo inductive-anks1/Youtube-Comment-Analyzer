{
 "cells": [
  {
   "cell_type": "code",
   "execution_count": 3,
   "metadata": {},
   "outputs": [],
   "source": [
    "import mlflow\n",
    "import pandas as pd\n",
    "from sklearn.feature_extraction.text import TfidfVectorizer\n",
    "from sklearn.model_selection import train_test_split\n",
    "from sklearn.ensemble import RandomForestClassifier\n",
    "from sklearn.metrics import accuracy_score, classification_report\n",
    "from imblearn.over_sampling import SMOTE\n",
    "import mlflow\n",
    "import mlflow.sklearn\n",
    "import optuna\n"
   ]
  },
  {
   "cell_type": "code",
   "execution_count": 2,
   "metadata": {},
   "outputs": [
    {
     "data": {
      "text/plain": [
       "<Experiment: artifact_location='s3://youtube-mlflow-campusx/728060098183646235', creation_time=1731836197994, experiment_id='728060098183646235', last_update_time=1731836197994, lifecycle_stage='active', name='Exp 5 - ML Algos with HP Tuning', tags={}>"
      ]
     },
     "execution_count": 2,
     "metadata": {},
     "output_type": "execute_result"
    }
   ],
   "source": [
    "mlflow.set_tracking_uri('http://3.7.252.23:5000')\n",
    "mlflow.set_experiment(\"Exp 5 - ML Algos with HP Tuning\")"
   ]
  },
  {
   "cell_type": "code",
   "execution_count": 6,
   "metadata": {},
   "outputs": [
    {
     "data": {
      "text/plain": [
       "(36662, 2)"
      ]
     },
     "execution_count": 6,
     "metadata": {},
     "output_type": "execute_result"
    }
   ],
   "source": [
    "df = pd.read_csv('dataset.csv').dropna()\n",
    "df.shape"
   ]
  },
  {
   "cell_type": "code",
   "execution_count": 7,
   "metadata": {},
   "outputs": [
    {
     "name": "stderr",
     "output_type": "stream",
     "text": [
      "[I 2024-11-17 18:21:51,689] A new study created in memory with name: no-name-26dcdf2a-34fe-4a8c-9661-3fc0133318e3\n",
      "[I 2024-11-17 18:21:54,956] Trial 0 finished with value: 0.6881209046713168 and parameters: {'n_estimators': 81, 'max_depth': 17, 'min_samples_split': 17, 'min_samples_leaf': 17}. Best is trial 0 with value: 0.6881209046713168.\n",
      "[I 2024-11-17 18:22:01,134] Trial 1 finished with value: 0.66856901289368 and parameters: {'n_estimators': 178, 'max_depth': 11, 'min_samples_split': 15, 'min_samples_leaf': 16}. Best is trial 0 with value: 0.6881209046713168.\n",
      "[I 2024-11-17 18:22:16,669] Trial 2 finished with value: 0.7040794757979285 and parameters: {'n_estimators': 222, 'max_depth': 19, 'min_samples_split': 8, 'min_samples_leaf': 5}. Best is trial 2 with value: 0.7040794757979285.\n",
      "[I 2024-11-17 18:22:21,696] Trial 3 finished with value: 0.6481716339040372 and parameters: {'n_estimators': 137, 'max_depth': 7, 'min_samples_split': 14, 'min_samples_leaf': 18}. Best is trial 2 with value: 0.7040794757979285.\n",
      "[I 2024-11-17 18:22:24,391] Trial 4 finished with value: 0.6512365250475587 and parameters: {'n_estimators': 64, 'max_depth': 8, 'min_samples_split': 10, 'min_samples_leaf': 15}. Best is trial 2 with value: 0.7040794757979285.\n",
      "[I 2024-11-17 18:22:31,611] Trial 5 finished with value: 0.6520820122595645 and parameters: {'n_estimators': 143, 'max_depth': 7, 'min_samples_split': 18, 'min_samples_leaf': 14}. Best is trial 2 with value: 0.7040794757979285.\n",
      "[I 2024-11-17 18:22:38,120] Trial 6 finished with value: 0.6358063834284506 and parameters: {'n_estimators': 167, 'max_depth': 4, 'min_samples_split': 17, 'min_samples_leaf': 18}. Best is trial 2 with value: 0.7040794757979285.\n",
      "[I 2024-11-17 18:22:45,564] Trial 7 finished with value: 0.6419361657154935 and parameters: {'n_estimators': 154, 'max_depth': 6, 'min_samples_split': 15, 'min_samples_leaf': 8}. Best is trial 2 with value: 0.7040794757979285.\n",
      "[I 2024-11-17 18:23:07,776] Trial 8 finished with value: 0.6958359754808708 and parameters: {'n_estimators': 233, 'max_depth': 17, 'min_samples_split': 19, 'min_samples_leaf': 7}. Best is trial 2 with value: 0.7040794757979285.\n",
      "[I 2024-11-17 18:23:15,832] Trial 9 finished with value: 0.6568378778270979 and parameters: {'n_estimators': 178, 'max_depth': 8, 'min_samples_split': 17, 'min_samples_leaf': 4}. Best is trial 2 with value: 0.7040794757979285.\n",
      "[I 2024-11-17 18:23:39,596] Trial 10 finished with value: 0.7163390403720143 and parameters: {'n_estimators': 272, 'max_depth': 20, 'min_samples_split': 4, 'min_samples_leaf': 1}. Best is trial 10 with value: 0.7163390403720143.\n",
      "[I 2024-11-17 18:24:17,812] Trial 11 finished with value: 0.7149651236525048 and parameters: {'n_estimators': 297, 'max_depth': 20, 'min_samples_split': 5, 'min_samples_leaf': 1}. Best is trial 10 with value: 0.7163390403720143.\n",
      "[I 2024-11-17 18:24:42,975] Trial 12 finished with value: 0.7155992390615092 and parameters: {'n_estimators': 300, 'max_depth': 20, 'min_samples_split': 3, 'min_samples_leaf': 1}. Best is trial 10 with value: 0.7163390403720143.\n",
      "[I 2024-11-17 18:25:00,377] Trial 13 finished with value: 0.699429296131896 and parameters: {'n_estimators': 300, 'max_depth': 15, 'min_samples_split': 2, 'min_samples_leaf': 1}. Best is trial 10 with value: 0.7163390403720143.\n",
      "[I 2024-11-17 18:25:13,049] Trial 14 finished with value: 0.6810399492707673 and parameters: {'n_estimators': 261, 'max_depth': 13, 'min_samples_split': 2, 'min_samples_leaf': 12}. Best is trial 10 with value: 0.7163390403720143.\n",
      "[I 2024-11-17 18:25:32,708] Trial 15 finished with value: 0.7013316423589093 and parameters: {'n_estimators': 269, 'max_depth': 18, 'min_samples_split': 6, 'min_samples_leaf': 3}. Best is trial 10 with value: 0.7163390403720143.\n",
      "[I 2024-11-17 18:25:46,290] Trial 16 finished with value: 0.6902346227013316 and parameters: {'n_estimators': 226, 'max_depth': 15, 'min_samples_split': 5, 'min_samples_leaf': 9}. Best is trial 10 with value: 0.7163390403720143.\n",
      "[I 2024-11-17 18:26:10,494] Trial 17 finished with value: 0.702282815472416 and parameters: {'n_estimators': 264, 'max_depth': 20, 'min_samples_split': 11, 'min_samples_leaf': 6}. Best is trial 10 with value: 0.7163390403720143.\n",
      "[I 2024-11-17 18:26:20,917] Trial 18 finished with value: 0.6687803846966814 and parameters: {'n_estimators': 211, 'max_depth': 11, 'min_samples_split': 4, 'min_samples_leaf': 11}. Best is trial 10 with value: 0.7163390403720143.\n",
      "[I 2024-11-17 18:26:29,379] Trial 19 finished with value: 0.6903403086028324 and parameters: {'n_estimators': 106, 'max_depth': 15, 'min_samples_split': 8, 'min_samples_leaf': 3}. Best is trial 10 with value: 0.7163390403720143.\n",
      "[I 2024-11-17 18:26:47,507] Trial 20 finished with value: 0.6852673853307969 and parameters: {'n_estimators': 283, 'max_depth': 13, 'min_samples_split': 7, 'min_samples_leaf': 3}. Best is trial 10 with value: 0.7163390403720143.\n",
      "[I 2024-11-17 18:27:24,629] Trial 21 finished with value: 0.7154935531600084 and parameters: {'n_estimators': 295, 'max_depth': 20, 'min_samples_split': 4, 'min_samples_leaf': 1}. Best is trial 10 with value: 0.7163390403720143.\n",
      "[I 2024-11-17 18:27:51,533] Trial 22 finished with value: 0.7068273092369478 and parameters: {'n_estimators': 248, 'max_depth': 18, 'min_samples_split': 3, 'min_samples_leaf': 1}. Best is trial 10 with value: 0.7163390403720143.\n",
      "[I 2024-11-17 18:28:10,568] Trial 23 finished with value: 0.6938279433523568 and parameters: {'n_estimators': 279, 'max_depth': 20, 'min_samples_split': 4, 'min_samples_leaf': 20}. Best is trial 10 with value: 0.7163390403720143.\n",
      "[I 2024-11-17 18:28:34,100] Trial 24 finished with value: 0.701860071866413 and parameters: {'n_estimators': 244, 'max_depth': 17, 'min_samples_split': 8, 'min_samples_leaf': 2}. Best is trial 10 with value: 0.7163390403720143.\n",
      "[I 2024-11-17 18:29:02,498] Trial 25 finished with value: 0.7019657577679138 and parameters: {'n_estimators': 299, 'max_depth': 19, 'min_samples_split': 2, 'min_samples_leaf': 5}. Best is trial 10 with value: 0.7163390403720143.\n",
      "[I 2024-11-17 18:29:18,097] Trial 26 finished with value: 0.6967871485943775 and parameters: {'n_estimators': 199, 'max_depth': 16, 'min_samples_split': 10, 'min_samples_leaf': 4}. Best is trial 10 with value: 0.7163390403720143.\n",
      "[I 2024-11-17 18:29:36,922] Trial 27 finished with value: 0.7128514056224899 and parameters: {'n_estimators': 251, 'max_depth': 19, 'min_samples_split': 6, 'min_samples_leaf': 1}. Best is trial 10 with value: 0.7163390403720143.\n",
      "[I 2024-11-17 18:29:48,552] Trial 28 finished with value: 0.6799830902557599 and parameters: {'n_estimators': 284, 'max_depth': 13, 'min_samples_split': 4, 'min_samples_leaf': 9}. Best is trial 10 with value: 0.7163390403720143.\n",
      "[I 2024-11-17 18:30:07,128] Trial 29 finished with value: 0.6949904882688649 and parameters: {'n_estimators': 279, 'max_depth': 17, 'min_samples_split': 12, 'min_samples_leaf': 6}. Best is trial 10 with value: 0.7163390403720143.\n",
      "2024/11/17 18:31:17 WARNING mlflow.models.model: Input example should be provided to infer model signature if the model signature is not provided when logging the model.\n",
      "2024/11/17 18:31:17 INFO mlflow.tracking._tracking_service.client: 🏃 View run RandomForest_SMOTE_TFIDF_Trigrams at: http://3.7.252.23:5000/#/experiments/728060098183646235/runs/c297e95760894d80890650701fd8b986.\n",
      "2024/11/17 18:31:17 INFO mlflow.tracking._tracking_service.client: 🧪 View experiment at: http://3.7.252.23:5000/#/experiments/728060098183646235.\n"
     ]
    }
   ],
   "source": [
    "# Step 1: (Optional) Remapping - skipped since not strictly needed for Random Forest\n",
    "\n",
    "# Step 2: Remove rows where the target labels (category) are NaN\n",
    "df = df.dropna(subset=['category'])\n",
    "\n",
    "# Step 3: TF-IDF vectorizer setup\n",
    "ngram_range = (1, 3)  # Trigram\n",
    "max_features = 1000  # Set max_features to 1000\n",
    "vectorizer = TfidfVectorizer(ngram_range=ngram_range, max_features=max_features)\n",
    "X = vectorizer.fit_transform(df['clean_comment'])\n",
    "y = df['category']\n",
    "\n",
    "# Step 4: Apply SMOTE to handle class imbalance\n",
    "smote = SMOTE(random_state=42)\n",
    "X_resampled, y_resampled = smote.fit_resample(X, y)\n",
    "\n",
    "# Step 5: Train-test split\n",
    "X_train, X_test, y_train, y_test = train_test_split(X_resampled, y_resampled, test_size=0.2, random_state=42, stratify=y_resampled)\n",
    "\n",
    "# Function to log results in MLflow\n",
    "def log_mlflow(model_name, model, X_train, X_test, y_train, y_test):\n",
    "    with mlflow.start_run():\n",
    "        # Log model type\n",
    "        mlflow.set_tag(\"mlflow.runName\", f\"{model_name}_SMOTE_TFIDF_Trigrams\")\n",
    "        mlflow.set_tag(\"experiment_type\", \"algorithm_comparison\")\n",
    "\n",
    "        # Log algorithm name as a parameter\n",
    "        mlflow.log_param(\"algo_name\", model_name)\n",
    "\n",
    "        # Train model\n",
    "        model.fit(X_train, y_train)\n",
    "        y_pred = model.predict(X_test)\n",
    "\n",
    "        # Log accuracy\n",
    "        accuracy = accuracy_score(y_test, y_pred)\n",
    "        mlflow.log_metric(\"accuracy\", accuracy)\n",
    "\n",
    "        # Log classification report\n",
    "        classification_rep = classification_report(y_test, y_pred, output_dict=True)\n",
    "        for label, metrics in classification_rep.items():\n",
    "            if isinstance(metrics, dict):\n",
    "                for metric, value in metrics.items():\n",
    "                    mlflow.log_metric(f\"{label}_{metric}\", value)\n",
    "\n",
    "        # Log the model\n",
    "        mlflow.sklearn.log_model(model, f\"{model_name}_model\")\n",
    "\n",
    "\n",
    "# Step 6: Optuna objective function for Random Forest\n",
    "def objective_rf(trial):\n",
    "    n_estimators = trial.suggest_int('n_estimators', 50, 300)  # Number of trees in the forest\n",
    "    max_depth = trial.suggest_int('max_depth', 3, 20)  # Maximum depth of the tree\n",
    "    min_samples_split = trial.suggest_int('min_samples_split', 2, 20)  # Minimum samples required to split a node\n",
    "    min_samples_leaf = trial.suggest_int('min_samples_leaf', 1, 20)  # Minimum samples required at a leaf node\n",
    "\n",
    "    # RandomForestClassifier setup\n",
    "    model = RandomForestClassifier(n_estimators=n_estimators, max_depth=max_depth,\n",
    "                                   min_samples_split=min_samples_split, min_samples_leaf=min_samples_leaf,\n",
    "                                   random_state=42)\n",
    "    return accuracy_score(y_test, model.fit(X_train, y_train).predict(X_test))\n",
    "\n",
    "\n",
    "# Step 7: Run Optuna for Random Forest, log the best model only\n",
    "def run_optuna_experiment():\n",
    "    study = optuna.create_study(direction=\"maximize\")\n",
    "    study.optimize(objective_rf, n_trials=30)\n",
    "\n",
    "    # Get the best parameters and log only the best model\n",
    "    best_params = study.best_params\n",
    "    best_model = RandomForestClassifier(n_estimators=best_params['n_estimators'],\n",
    "                                        max_depth=best_params['max_depth'],\n",
    "                                        min_samples_split=best_params['min_samples_split'],\n",
    "                                        min_samples_leaf=best_params['min_samples_leaf'],\n",
    "                                        random_state=42)\n",
    "\n",
    "    # Log the best model with MLflow, passing the algo_name as \"RandomForest\"\n",
    "    log_mlflow(\"RandomForest\", best_model, X_train, X_test, y_train, y_test)\n",
    "\n",
    "# Run the experiment for Random Forest\n",
    "run_optuna_experiment()\n"
   ]
  },
  {
   "cell_type": "code",
   "execution_count": null,
   "metadata": {},
   "outputs": [],
   "source": []
  }
 ],
 "metadata": {
  "kernelspec": {
   "display_name": "Python 3",
   "language": "python",
   "name": "python3"
  },
  "language_info": {
   "codemirror_mode": {
    "name": "ipython",
    "version": 3
   },
   "file_extension": ".py",
   "mimetype": "text/x-python",
   "name": "python",
   "nbconvert_exporter": "python",
   "pygments_lexer": "ipython3",
   "version": "3.12.5"
  }
 },
 "nbformat": 4,
 "nbformat_minor": 2
}
